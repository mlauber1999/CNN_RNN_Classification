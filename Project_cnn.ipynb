{
  "cells": [
    {
      "cell_type": "code",
      "execution_count": null,
      "metadata": {
        "id": "3E2Ytpny9PNc"
      },
      "outputs": [],
      "source": [
        "!pip install timm"
      ]
    },
    {
      "cell_type": "markdown",
      "metadata": {
        "id": "qR_Ww53gbRQH"
      },
      "source": [
        "Sources for the code: my brain, stackoverflow, ChatGPT for error trouble shooting"
      ]
    },
    {
      "cell_type": "code",
      "execution_count": null,
      "metadata": {
        "id": "BKr-Q7ou9Frz"
      },
      "outputs": [],
      "source": [
        "!pip install datasets"
      ]
    },
    {
      "cell_type": "code",
      "execution_count": null,
      "metadata": {
        "id": "X0G72Rdd8ukB"
      },
      "outputs": [],
      "source": [
        "import pandas as pd\n",
        "import numpy as np\n",
        "import matplotlib.pyplot as plt\n",
        "import seaborn as sns\n",
        "import torch\n",
        "import torch.nn as nn\n",
        "import torch.optim as optim\n",
        "import torch.nn.init as init\n",
        "from sklearn import datasets\n",
        "from sklearn.model_selection import train_test_split, cross_val_score\n",
        "from sklearn.model_selection import train_test_split\n",
        "from sklearn.preprocessing import StandardScaler\n",
        "from sklearn.metrics import accuracy_score\n",
        "import time\n",
        "import timm # library with pretrained models\n",
        "from datasets import load_dataset\n",
        "from torchvision import datasets, transforms\n",
        "from torch.utils.data import DataLoader\n",
        "from tqdm import tqdm\n",
        "from torch.utils.data import Dataset\n",
        "from PIL import Image"
      ]
    },
    {
      "cell_type": "markdown",
      "metadata": {
        "id": "gYwKTjVM8ukD"
      },
      "source": [
        "# CNN Part"
      ]
    },
    {
      "cell_type": "markdown",
      "metadata": {
        "id": "MMftkkU28ukE"
      },
      "source": [
        "## 1: Download tinyImageNet\n",
        "- data set charactaristics (200 image classes)"
      ]
    },
    {
      "cell_type": "code",
      "execution_count": null,
      "metadata": {
        "id": "_MG7sdiw8ukF"
      },
      "outputs": [],
      "source": [
        "tiny_imagenet = load_dataset('Maysee/tiny-imagenet')\n",
        "train_dataset = load_dataset('Maysee/tiny-imagenet', split='train')\n",
        "#consider valid as test split\n",
        "valid_test_dataset = load_dataset('Maysee/tiny-imagenet', split='valid')\n"
      ]
    },
    {
      "cell_type": "code",
      "execution_count": null,
      "metadata": {
        "colab": {
          "base_uri": "https://localhost:8080/"
        },
        "id": "fxww7srL8ukF",
        "outputId": "de781a3a-91fe-47a4-abeb-4ab4390c9bd6"
      },
      "outputs": [
        {
          "data": {
            "text/plain": [
              "Dataset({\n",
              "    features: ['image', 'label'],\n",
              "    num_rows: 10000\n",
              "})"
            ]
          },
          "execution_count": 157,
          "metadata": {},
          "output_type": "execute_result"
        }
      ],
      "source": [
        "#check output\n",
        "valid_test_dataset"
      ]
    },
    {
      "cell_type": "code",
      "execution_count": null,
      "metadata": {
        "colab": {
          "base_uri": "https://localhost:8080/"
        },
        "id": "6bixMVBm8ukG",
        "outputId": "b5800990-1ec1-4aef-f319-0936c4e98c9b"
      },
      "outputs": [
        {
          "data": {
            "text/plain": [
              "Dataset({\n",
              "    features: ['image', 'label'],\n",
              "    num_rows: 100000\n",
              "})"
            ]
          },
          "execution_count": 158,
          "metadata": {},
          "output_type": "execute_result"
        }
      ],
      "source": [
        "#check output\n",
        "train_dataset"
      ]
    },
    {
      "cell_type": "markdown",
      "metadata": {
        "id": "00Lg4J8T8ukH"
      },
      "source": [
        "##  2: Use a small and large version of existing image classification models,\n",
        "- i.e. pre-trained models, including VGG-19, ResNet50V2, and Inceptionv4 (these all seem large)\n",
        "- Then, run them on the tinyImageNet."
      ]
    },
    {
      "cell_type": "markdown",
      "metadata": {
        "id": "Pgu4g5qe8ukH"
      },
      "source": [
        "- Large vs small image classification models\n",
        "\n"
      ]
    },
    {
      "cell_type": "markdown",
      "metadata": {
        "id": "pJLGAsce8ukH"
      },
      "source": [
        "### VGG - 19 model (large version)\n",
        "- Architecture: 19 layers, with stack of convolutional layers, followed by 3 fully connected layers, uses 3x3 convolutional filters with strife and pad of 1, and max pooling layers\n",
        "- Usage: good for image classification because of its deep and straightforward architecure\n",
        "\n",
        "VGG - 11 model (small version)\n",
        "- 11 layers instead of 11\n",
        "- 8 conv layers and 3 fully connected ones"
      ]
    },
    {
      "cell_type": "code",
      "execution_count": null,
      "metadata": {
        "colab": {
          "base_uri": "https://localhost:8080/"
        },
        "id": "UvBdqMEj8ukI",
        "outputId": "7b09b377-34ff-4fb6-a8a2-cf42288c46e3"
      },
      "outputs": [
        {
          "name": "stderr",
          "output_type": "stream",
          "text": [
            "/usr/local/lib/python3.10/dist-packages/torchvision/models/_utils.py:208: UserWarning: The parameter 'pretrained' is deprecated since 0.13 and may be removed in the future, please use 'weights' instead.\n",
            "  warnings.warn(\n",
            "/usr/local/lib/python3.10/dist-packages/torchvision/models/_utils.py:223: UserWarning: Arguments other than a weight enum or `None` for 'weights' are deprecated since 0.13 and may be removed in the future. The current behavior is equivalent to passing `weights=VGG19_Weights.IMAGENET1K_V1`. You can also use `weights=VGG19_Weights.DEFAULT` to get the most up-to-date weights.\n",
            "  warnings.warn(msg)\n",
            "Downloading: \"https://download.pytorch.org/models/vgg19-dcbb9e9d.pth\" to /root/.cache/torch/hub/checkpoints/vgg19-dcbb9e9d.pth\n",
            "100%|██████████| 548M/548M [00:10<00:00, 56.3MB/s]\n"
          ]
        }
      ],
      "source": [
        "from torchvision.models import vgg19\n",
        "vgg19_model = vgg19(pretrained=True)"
      ]
    },
    {
      "cell_type": "code",
      "execution_count": null,
      "metadata": {
        "id": "ha3658zP8ukI"
      },
      "outputs": [],
      "source": [
        "#need to adjust the final classification layer of VGG\n",
        "# classifier is a sequential module containing several layers\n",
        "# vgg19_model.classifier[6] is accessing the 7th layer in the sequence (the final fully connected layer)\n",
        "#I have 19 layer model, the first layer has already learned, so I can freeze them, only interested in training last model\n",
        "#right now its backpropgating through all layers, so want to freeze all layers except the one I modified, using VGG because it;s oretrained, minimal gain from doing the entire thing, want to just have final layer be modified\n",
        "\n",
        "#freezing all layers\n",
        "for param in vgg19_model.parameters():\n",
        "    # print(param)\n",
        "    param.requires_grad = False\n",
        "#unfreeze only last layer bc model is pretrained\n",
        "# vgg19_model.classifier.requires_grad=True\n",
        "\n",
        "#so instead of modifying final layer\n",
        "# vgg19_model.classifier = nn.Linear(25088, 200)\n",
        "vgg19_model.classifier[6] = nn.Linear(4096, 200)\n",
        "#nn.Linear(4096,200) is modifying it to be a linear layer with 4096 input features and 200 output features (num classes )"
      ]
    },
    {
      "cell_type": "code",
      "execution_count": null,
      "metadata": {
        "id": "RxrRqLPfBHfe"
      },
      "outputs": [],
      "source": [
        "vec = torch.randn(1,3,32,32)\n",
        "vgg19_model(vec)"
      ]
    },
    {
      "cell_type": "code",
      "execution_count": null,
      "metadata": {
        "id": "TOUiUn5f8ukI"
      },
      "outputs": [],
      "source": [
        "#data loader with trasnform to convert to PIL image and make sure they are in RGB format before loading into the mode\n",
        "\n",
        "class custom_data_loader(Dataset):\n",
        "    def __init__(self, data, transform=None):\n",
        "      #this takes data, which is the dataset object loaded\n",
        "      #transform can optionally be applied\n",
        "        self.data = data\n",
        "        self.transform = transform\n",
        "\n",
        "    def __len__(self):\n",
        "      #this returns len of data\n",
        "        return len(self.data)\n",
        "\n",
        "    def __getitem__(self, idx):\n",
        "      #this gets the item (both image and label) for that index\n",
        "        image, label = self.data[idx]['image'], self.data[idx]['label']\n",
        "\n",
        "        # convert to PIL image and make sure it's in RGB format\n",
        "        if isinstance(image, np.ndarray):  # if the image is a numpy array\n",
        "            image = Image.fromarray(image)\n",
        "\n",
        "        # if its not already in RGB format, then convert to RGB\n",
        "        if not isinstance(image, Image.Image):\n",
        "            # additional handling if image is not in PIL format\n",
        "            image = Image.fromarray(image)\n",
        "\n",
        "        if image.mode != 'RGB':\n",
        "            image = image.convert('RGB')\n",
        "        # apply transformations\n",
        "        if self.transform:\n",
        "            image = self.transform(image)\n",
        "        return image, label\n"
      ]
    },
    {
      "cell_type": "code",
      "execution_count": null,
      "metadata": {
        "id": "ZngTdGmx8ukJ"
      },
      "outputs": [],
      "source": [
        "# define transformations\n",
        "transform = transforms.Compose([\n",
        "    transforms.Resize((224, 224)),\n",
        "    transforms.ToTensor(),\n",
        "    transforms.Normalize(mean=[0.485, 0.456, 0.406], std=[0.229, 0.224, 0.225]),\n",
        "])\n",
        "\n",
        "# apply transformations to the using custom_data_loader function above\n",
        "train_custom_dataset = custom_data_loader(train_dataset, transform=transform)\n",
        "valid_custom_dataset = custom_data_loader(valid_test_dataset, transform=transform)\n",
        "\n",
        "# create data loaders\n",
        "train_loader = DataLoader(train_custom_dataset, batch_size=32, shuffle=True)\n",
        "valid_loader = DataLoader(valid_custom_dataset, batch_size=32, shuffle=False)\n"
      ]
    },
    {
      "cell_type": "code",
      "execution_count": null,
      "metadata": {
        "id": "CxP2FPnn8ukJ"
      },
      "outputs": [],
      "source": [
        "#define training and testing functions\n",
        "def train_model(model, train_loader, criterion, optimizer, epochs=1):\n",
        "    model.train()\n",
        "    for epoch in range(epochs):\n",
        "        #tqdm progress bar\n",
        "        train_loop = tqdm(train_loader, leave=True, position=0)\n",
        "        for inputs, labels in train_loop:\n",
        "          #sending the inputs and labels to the gpu (device =gpu)\n",
        "            inputs, labels = inputs.to(device), labels.to(device)\n",
        "            optimizer.zero_grad()\n",
        "            outputs = model(inputs)\n",
        "\n",
        "            loss = criterion(outputs, labels)\n",
        "            loss.backward()\n",
        "            optimizer.step()\n",
        "\n",
        "            # update progress bar each epoch\n",
        "            train_loop.set_description(f\"Epoch [{epoch+1}/{epochs}]\")\n",
        "            train_loop.set_postfix(loss=loss.item())\n",
        "\n",
        "def validate_model(model, valid_loader):\n",
        "    model.eval()\n",
        "    correct = 0\n",
        "    total = 0\n",
        "    valid_loop = tqdm(valid_loader, leave=True, position=0)\n",
        "    with torch.no_grad():\n",
        "        for inputs, labels in valid_loop:\n",
        "            inputs, labels = inputs.to(device), labels.to(device)\n",
        "            outputs = model(inputs)\n",
        "            _, predicted = torch.max(outputs.data, 1)\n",
        "            total += labels.size(0)\n",
        "            correct += (predicted == labels).sum().item()\n",
        "\n",
        "            # update progress bar description\n",
        "            valid_loop.set_description(\"Validating\")\n",
        "    return 100 * correct / total\n"
      ]
    },
    {
      "cell_type": "code",
      "execution_count": null,
      "metadata": {
        "colab": {
          "base_uri": "https://localhost:8080/"
        },
        "id": "NXa6shFZ8ukK",
        "outputId": "26050afd-4db3-4735-b0ce-6b8d112dba3a"
      },
      "outputs": [
        {
          "data": {
            "text/plain": [
              "True"
            ]
          },
          "execution_count": 27,
          "metadata": {},
          "output_type": "execute_result"
        }
      ],
      "source": [
        "#check if cuda is availible\n",
        "torch.cuda.is_available()"
      ]
    },
    {
      "cell_type": "code",
      "execution_count": null,
      "metadata": {
        "id": "gi0IB7Dy9fgm"
      },
      "outputs": [],
      "source": [
        "device = \"cuda:0\""
      ]
    },
    {
      "cell_type": "code",
      "execution_count": null,
      "metadata": {
        "id": "DnDDpB8q9pFM"
      },
      "outputs": [],
      "source": [
        "#send model to device\n",
        "vgg19_model = vgg19_model.to(device)"
      ]
    },
    {
      "cell_type": "code",
      "execution_count": null,
      "metadata": {
        "colab": {
          "base_uri": "https://localhost:8080/"
        },
        "id": "Iq-8y3ly8ukK",
        "outputId": "529fc3e3-78b6-4df6-bb6c-42f56146c2e5"
      },
      "outputs": [
        {
          "name": "stderr",
          "output_type": "stream",
          "text": [
            "Epoch [1/1]: 100%|██████████| 3125/3125 [13:34<00:00,  3.83it/s, loss=2.34]\n",
            "Validating: 100%|██████████| 313/313 [01:21<00:00,  3.86it/s]"
          ]
        },
        {
          "name": "stdout",
          "output_type": "stream",
          "text": [
            "Accuracy of VGG-19 on tinyImageNet: 56.63%\n",
            "VGG run time 895.9603996276855\n"
          ]
        },
        {
          "name": "stderr",
          "output_type": "stream",
          "text": [
            "\n"
          ]
        }
      ],
      "source": [
        "# VGG 19 training and testing with progress bar\n",
        "criterion = nn.CrossEntropyLoss()\n",
        "optimizer = optim.Adam(vgg19_model.parameters(), lr=0.001)\n",
        "vgg19_start = time.time()\n",
        "# train the model\n",
        "train_model(vgg19_model, train_loader, criterion, optimizer, epochs=1)\n",
        "\n",
        "# validate and report accuracy\n",
        "vgg19_accuracy = validate_model(vgg19_model, valid_loader)\n",
        "vgg19_end = time.time()\n",
        "vgg19_duration = vgg19_end-vgg19_start\n",
        "print(f\"Accuracy of VGG-19 on tinyImageNet: {vgg19_accuracy}%\")\n",
        "print(f\"VGG run time {vgg19_duration}\")\n"
      ]
    },
    {
      "cell_type": "markdown",
      "metadata": {
        "id": "6EKnZmAfI5si"
      },
      "source": [
        "small version vgg11\n",
        "- 11 layers instead of 19"
      ]
    },
    {
      "cell_type": "code",
      "execution_count": null,
      "metadata": {
        "colab": {
          "base_uri": "https://localhost:8080/",
          "height": 49,
          "referenced_widgets": [
            "705e4c65652e446ea08f3a09a483ec49",
            "bffe211fcc664b5198c945986781777b",
            "d370efcb1abc4110b8ae9ce0144bf935",
            "2d322df88cab45a2aa246eb028b182b6",
            "9551a551666d40a384c8c1720fc334da",
            "42f00a472c0d48929baab7c57f5f228c",
            "7eb3bc1fda8c4d6da4e29020f2b62712",
            "4fb066c5dc6841e1a73668f03182c785",
            "518b5bc6d753481ba24cd18f3ec4130f",
            "0e3761f956a84fcdaf6eb82e26933b01",
            "9b460648f8b746839b8e24e6f364f1fd"
          ]
        },
        "id": "QLHakzOTIusE",
        "outputId": "849eb012-07c7-4b22-82d1-13915353a13d"
      },
      "outputs": [
        {
          "data": {
            "application/vnd.jupyter.widget-view+json": {
              "model_id": "705e4c65652e446ea08f3a09a483ec49",
              "version_major": 2,
              "version_minor": 0
            },
            "text/plain": [
              "model.safetensors:   0%|          | 0.00/531M [00:00<?, ?B/s]"
            ]
          },
          "metadata": {},
          "output_type": "display_data"
        }
      ],
      "source": [
        "vgg11_model = timm.create_model('vgg11', pretrained=True)"
      ]
    },
    {
      "cell_type": "code",
      "execution_count": null,
      "metadata": {
        "id": "10Ufz2A9I95w"
      },
      "outputs": [],
      "source": [
        "#send model to device\n",
        "vgg11_model = vgg11_model.to(device)"
      ]
    },
    {
      "cell_type": "code",
      "execution_count": null,
      "metadata": {
        "colab": {
          "base_uri": "https://localhost:8080/"
        },
        "id": "RT4CjhPsJAHR",
        "outputId": "417cce5a-b4d8-47f8-89ab-fa8e823654df"
      },
      "outputs": [
        {
          "name": "stderr",
          "output_type": "stream",
          "text": [
            "Epoch [1/1]: 100%|██████████| 3125/3125 [13:53<00:00,  3.75it/s, loss=5.1]\n",
            "Validating: 100%|██████████| 313/313 [01:20<00:00,  3.89it/s]"
          ]
        },
        {
          "name": "stdout",
          "output_type": "stream",
          "text": [
            "Accuracy of VGG-11 on tinyImageNet: 57.33%\n",
            "VGG run time 913.5587043762207\n"
          ]
        },
        {
          "name": "stderr",
          "output_type": "stream",
          "text": [
            "\n"
          ]
        }
      ],
      "source": [
        "# VGG 11 training and testing with progress bar\n",
        "criterion = nn.CrossEntropyLoss()\n",
        "optimizer = optim.Adam(vgg11_model.parameters(), lr=0.001)\n",
        "vgg11_start = time.time()\n",
        "# train the model\n",
        "train_model(vgg11_model, train_loader, criterion, optimizer, epochs=1)\n",
        "\n",
        "# validate and report accuracy\n",
        "vgg11_accuracy = validate_model(vgg11_model, valid_loader)\n",
        "vgg11_end = time.time()\n",
        "vgg11_duration = vgg11_end-vgg11_start\n",
        "print(f\"Accuracy of VGG-11 on tinyImageNet: {vgg11_accuracy}%\")\n",
        "print(f\"VGG run time {vgg11_duration}\")\n"
      ]
    },
    {
      "cell_type": "markdown",
      "metadata": {
        "id": "J8c6bDUOt7Ym"
      },
      "source": [
        "Resnet 50 Model (large version)\n",
        "- Architecture: 50 layers.  residual (skip) connections that gradients flow throug. deep conv network.\n",
        "- Parameters: 25 million (more efficient with parameter use than VGG-19)\n",
        "- More effient and faster than VGG\n",
        "\n",
        "\n",
        "Resnet 18 (small version)\n",
        "- 18 layers instead of 50, fewer paramters, requires less comp power but is potentially less accurate.\n"
      ]
    },
    {
      "cell_type": "code",
      "execution_count": null,
      "metadata": {
        "colab": {
          "base_uri": "https://localhost:8080/"
        },
        "id": "CASppcdvbWRw",
        "outputId": "128dd0c3-3099-452f-f484-a8ec61032d79"
      },
      "outputs": [
        {
          "name": "stderr",
          "output_type": "stream",
          "text": [
            "/usr/local/lib/python3.10/dist-packages/torchvision/models/_utils.py:223: UserWarning: Arguments other than a weight enum or `None` for 'weights' are deprecated since 0.13 and may be removed in the future. The current behavior is equivalent to passing `weights=ResNet50_Weights.IMAGENET1K_V1`. You can also use `weights=ResNet50_Weights.DEFAULT` to get the most up-to-date weights.\n",
            "  warnings.warn(msg)\n",
            "Downloading: \"https://download.pytorch.org/models/resnet50-0676ba61.pth\" to /root/.cache/torch/hub/checkpoints/resnet50-0676ba61.pth\n",
            "100%|██████████| 97.8M/97.8M [00:01<00:00, 81.2MB/s]\n"
          ]
        }
      ],
      "source": [
        "from torchvision.models import resnet50\n",
        "#load model\n",
        "resnet50_model = resnet50(pretrained=True)"
      ]
    },
    {
      "cell_type": "code",
      "execution_count": null,
      "metadata": {
        "id": "pV99LA-2bgoY"
      },
      "outputs": [],
      "source": [
        "#number of features\n",
        "num_feats = resnet50_model.fc.in_features\n",
        "#modify the final classification lauer of resnet for tinyimage net data 200 output classes\n",
        "resnet50_model.fc = nn.Linear(num_feats,200)"
      ]
    },
    {
      "cell_type": "code",
      "execution_count": null,
      "metadata": {
        "id": "rrbEuAbSd0DZ"
      },
      "outputs": [],
      "source": [
        "#transfer model to cuda (already checked that cuda is availble\n",
        "resnet50_model = resnet50_model.to(device)"
      ]
    },
    {
      "cell_type": "code",
      "execution_count": null,
      "metadata": {
        "colab": {
          "base_uri": "https://localhost:8080/"
        },
        "id": "vBwGURkTeUcl",
        "outputId": "39de8a46-73b9-4af0-84a1-e7fe95849ae4"
      },
      "outputs": [
        {
          "name": "stderr",
          "output_type": "stream",
          "text": [
            "Epoch [1/1]: 100%|██████████| 3125/3125 [20:05<00:00,  2.59it/s, loss=2.73]\n",
            "Validating: 100%|██████████| 313/313 [00:51<00:00,  6.13it/s]"
          ]
        },
        {
          "name": "stdout",
          "output_type": "stream",
          "text": [
            "Accuracy of Resnet50 on tinyImageNet: 20.59%\n",
            "VGG run time 1256.5556631088257\n"
          ]
        },
        {
          "name": "stderr",
          "output_type": "stream",
          "text": [
            "\n"
          ]
        }
      ],
      "source": [
        "#train resnet 50 and validate\n",
        "#training and testing with progress bar\n",
        "criterion = nn.CrossEntropyLoss()\n",
        "optimizer = optim.Adam(resnet50_model.parameters(), lr=0.001)\n",
        "resnet50_start = time.time()\n",
        "# train the model\n",
        "train_model(resnet50_model, train_loader, criterion, optimizer, epochs=1)\n",
        "\n",
        "# validate and report accuracy\n",
        "resnet50_model_accuracy = validate_model(resnet50_model, valid_loader)\n",
        "resnet50_end = time.time()\n",
        "resnet50_duration = resnet50_end-resnet50_start\n",
        "print(f\"Accuracy of Resnet50 on tinyImageNet: {resnet50_model_accuracy}%\")\n",
        "print(f\"VGG run time {resnet50_duration}\")\n"
      ]
    },
    {
      "cell_type": "markdown",
      "metadata": {
        "id": "RVVM77LuJsi5"
      },
      "source": [
        "small resnet (resnet 18)\n",
        "- 18 layers instead of 50"
      ]
    },
    {
      "cell_type": "code",
      "execution_count": null,
      "metadata": {
        "colab": {
          "base_uri": "https://localhost:8080/",
          "height": 49,
          "referenced_widgets": [
            "a6ac0f86be4f41ec8808ed3b4f385c24",
            "963a4fd3eb324388a67461d48072da67",
            "4a4020fc0eb04d29b24a739c6222dca6",
            "3aa593929bd541c88117971c94ddc751",
            "5a8d1ce5e61a45fa95c94bc1a62681ae",
            "6fd689f26f3f4f7da50648c67666e134",
            "00bed07539c24027a103c2cc0d60f249",
            "55d1b73a92f14c8c8432ed78bb9aeec7",
            "9463557d9d5a461dbb7d4a88af6d421d",
            "67936a8d10bf48b3b250d1685d5b5a46",
            "448b87301a7f48b6900ceb68688fd8b5"
          ]
        },
        "id": "cmXmVzbrJvZv",
        "outputId": "64fdd933-e7b8-43eb-cb31-e13b8b4e15ba"
      },
      "outputs": [
        {
          "data": {
            "application/vnd.jupyter.widget-view+json": {
              "model_id": "a6ac0f86be4f41ec8808ed3b4f385c24",
              "version_major": 2,
              "version_minor": 0
            },
            "text/plain": [
              "model.safetensors:   0%|          | 0.00/46.8M [00:00<?, ?B/s]"
            ]
          },
          "metadata": {},
          "output_type": "display_data"
        }
      ],
      "source": [
        "#small resnet 18\n",
        "resnet18_model = timm.create_model('resnet18', pretrained=True)"
      ]
    },
    {
      "cell_type": "code",
      "execution_count": null,
      "metadata": {
        "id": "sERI9LmXKCQP"
      },
      "outputs": [],
      "source": [
        "num_feats = resnet18_model.fc.in_features\n",
        "#modify the final classification lauer of resnet for tinyimage net data 200 output classes\n",
        "resnet18_model.fc = nn.Linear(num_feats,200)"
      ]
    },
    {
      "cell_type": "code",
      "execution_count": null,
      "metadata": {
        "id": "Wll11aOsJ7z1"
      },
      "outputs": [],
      "source": [
        "#send it to device\n",
        "resnet18_model = resnet18_model.to(device)"
      ]
    },
    {
      "cell_type": "code",
      "execution_count": null,
      "metadata": {
        "colab": {
          "base_uri": "https://localhost:8080/"
        },
        "id": "dQfvNbGyKIrd",
        "outputId": "1bb875b0-4a65-452f-f794-712459d23e2d"
      },
      "outputs": [
        {
          "name": "stderr",
          "output_type": "stream",
          "text": [
            "Epoch [1/1]: 100%|██████████| 3125/3125 [08:38<00:00,  6.02it/s, loss=1.24]\n",
            "Validating: 100%|██████████| 313/313 [00:34<00:00,  9.14it/s]"
          ]
        },
        {
          "name": "stdout",
          "output_type": "stream",
          "text": [
            "Accuracy of Resnet18 on tinyImageNet: 61.84%\n",
            "VGG run time 553.2150270938873\n"
          ]
        },
        {
          "name": "stderr",
          "output_type": "stream",
          "text": [
            "\n"
          ]
        }
      ],
      "source": [
        "#train resnet 18 and validate\n",
        "#training and testing with progress bar\n",
        "criterion = nn.CrossEntropyLoss()\n",
        "optimizer = optim.Adam(resnet18_model.parameters(), lr=0.001)\n",
        "resnet18_start = time.time()\n",
        "# train the model\n",
        "train_model(resnet18_model, train_loader, criterion, optimizer, epochs=1)\n",
        "\n",
        "# validate and report accuracy\n",
        "resnet18_model_accuracy = validate_model(resnet18_model, valid_loader)\n",
        "resnet18_end = time.time()\n",
        "resnet18_duration = resnet18_end-resnet18_start\n",
        "print(f\"Accuracy of Resnet18 on tinyImageNet: {resnet18_model_accuracy}%\")\n",
        "print(f\"VGG run time {resnet18_duration}\")"
      ]
    },
    {
      "cell_type": "markdown",
      "metadata": {
        "id": "-0h9PWoffURP"
      },
      "source": [
        "InceptionV4 model (large version)\n",
        "\n",
        "Inception models are deep cnns designed for efficent image classification and feature extrction.\n",
        "\n",
        "- Architecture: uses inception modules that allow it to look at the same image with different receptive field sizes (varying number of filters)\n",
        "- Paramters: 42 million\n",
        "- Uses: more paramter efficient than VGG, very flexible model due to modular nature of inception modules\n",
        "- it incorporates residual connections where Inception V3 does not\n",
        "\n",
        "InceptionV3 model (small version):\n",
        "- less complex version of IncpetionV4\n",
        "\n",
        "\n",
        "\n"
      ]
    },
    {
      "cell_type": "code",
      "execution_count": null,
      "metadata": {
        "colab": {
          "base_uri": "https://localhost:8080/",
          "height": 49,
          "referenced_widgets": [
            "38f8dbae751e4e229537ab5556521029",
            "a846f230e8db4eb68c9f7ea0ff2f1e0b",
            "3e47944a5cd84ee69c4f881c45dbb8fa",
            "663a8454739e43298aa79c61cb2d8eff",
            "c91cad1dff6044ca88fe538c2e2eab55",
            "3eb743ee94dd484c936c4367157755dd",
            "2bfcceb4c336412a95233560203a6256",
            "beb0a6a61f7442058125ce4929ae7b80",
            "cbb291fbd2634985b1259504b1e1537c",
            "93e64754434a47c496583308b20bddf6",
            "20203714111d4f0ea0dc8f553e6ace6b"
          ]
        },
        "id": "n30KIqrhf2sH",
        "outputId": "6f119a14-7f1a-4720-8f84-60e59e137e76"
      },
      "outputs": [
        {
          "data": {
            "application/vnd.jupyter.widget-view+json": {
              "model_id": "38f8dbae751e4e229537ab5556521029",
              "version_major": 2,
              "version_minor": 0
            },
            "text/plain": [
              "model.safetensors:   0%|          | 0.00/171M [00:00<?, ?B/s]"
            ]
          },
          "metadata": {},
          "output_type": "display_data"
        }
      ],
      "source": [
        "#load inception model from timm\n",
        "inception_model = timm.create_model('inception_v4', pretrained=True)"
      ]
    },
    {
      "cell_type": "code",
      "execution_count": null,
      "metadata": {
        "id": "tlKbc77FxiMJ"
      },
      "outputs": [],
      "source": [
        "print(inception_model)\n",
        "#print model to find last layer\n",
        "#the last layer is (last_linear): Linear(in_features=1536, out_features=1000, bias=True)"
      ]
    },
    {
      "cell_type": "code",
      "execution_count": null,
      "metadata": {
        "id": "whPt_ZcXx5sn"
      },
      "outputs": [],
      "source": [
        "# modify the final classifier layer to have 200 outputs (tinyImageNet classes)\n",
        "num_ftrs = inception_model.last_linear.in_features\n",
        "inception_model.last_linear = nn.Linear(num_ftrs, 200)\n"
      ]
    },
    {
      "cell_type": "code",
      "execution_count": null,
      "metadata": {
        "id": "xE_IUjLag0xh"
      },
      "outputs": [],
      "source": [
        "#transfer model to GPU\n",
        "inception_model = inception_model.to(device)"
      ]
    },
    {
      "cell_type": "code",
      "execution_count": null,
      "metadata": {
        "colab": {
          "base_uri": "https://localhost:8080/"
        },
        "id": "vgp93JrPh6CV",
        "outputId": "19c3b670-51fd-42a8-8872-6b6de611998c"
      },
      "outputs": [
        {
          "name": "stderr",
          "output_type": "stream",
          "text": [
            "Epoch [1/1]: 100%|██████████| 3125/3125 [29:16<00:00,  1.78it/s, loss=4.6]\n",
            "Validating: 100%|██████████| 313/313 [01:06<00:00,  4.70it/s]"
          ]
        },
        {
          "name": "stdout",
          "output_type": "stream",
          "text": [
            "Accuracy of Inception Model on tinyImageNet: 6.13%\n",
            "Inception run time 1823.1921582221985\n"
          ]
        },
        {
          "name": "stderr",
          "output_type": "stream",
          "text": [
            "\n"
          ]
        }
      ],
      "source": [
        "#train and evaluate inception v4 large model\n",
        "#used adam optimizer (used for all)\n",
        "criterion = nn.CrossEntropyLoss()\n",
        "optimizer = optim.Adam(inception_model.parameters(), lr=0.001)\n",
        "inception_start = time.time()\n",
        "# train the model\n",
        "train_model(inception_model, train_loader, criterion, optimizer, epochs=1)\n",
        "\n",
        "# validate and report accuracy\n",
        "inception_model_accuracy = validate_model(inception_model, valid_loader)\n",
        "inception_end = time.time()\n",
        "inception_duration = inception_end-inception_start\n",
        "print(f\"Accuracy of Inception Model on tinyImageNet: {inception_model_accuracy}%\")\n",
        "print(f\"Inception V4 run time {inception_duration}\")"
      ]
    },
    {
      "cell_type": "code",
      "execution_count": null,
      "metadata": {
        "colab": {
          "base_uri": "https://localhost:8080/",
          "height": 49,
          "referenced_widgets": [
            "90d3be08d056418ea080bd9ca524bdbf",
            "aec93dbcfd854106a1d0e87b05db183b",
            "4d7be3a95b2a409e95f6b78fdf976ff8",
            "8e3fb3717bd7490291a250d099b7265d",
            "514c68e53c434301baf40ecc0def8e18",
            "82d83f6a1e234c988235830eefca8fd9",
            "e81bc8760d034c21a55def0c3be2867a",
            "2e852355f1a546ffb75a434e0644163c",
            "3df453c3d363402abe741d4a67a27102",
            "1e45628c96ce468ca1fdbd7ea7811574",
            "a5b6af4750f14230b050f22c93d2dbbd"
          ]
        },
        "id": "jkV7jVctLFHZ",
        "outputId": "b1ad724c-81b8-4cb3-c9f9-5d6c94e3513a"
      },
      "outputs": [
        {
          "data": {
            "application/vnd.jupyter.widget-view+json": {
              "model_id": "90d3be08d056418ea080bd9ca524bdbf",
              "version_major": 2,
              "version_minor": 0
            },
            "text/plain": [
              "model.safetensors:   0%|          | 0.00/95.5M [00:00<?, ?B/s]"
            ]
          },
          "metadata": {},
          "output_type": "display_data"
        }
      ],
      "source": [
        "#small v3 inception model from timm\n",
        "inceptionv3_model = timm.create_model('inception_v3', pretrained=True)"
      ]
    },
    {
      "cell_type": "code",
      "execution_count": null,
      "metadata": {
        "id": "PZ6diOLJLONK"
      },
      "outputs": [],
      "source": [
        "#send to device\n",
        "inceptionv3_model = inceptionv3_model.to(device)"
      ]
    },
    {
      "cell_type": "code",
      "execution_count": null,
      "metadata": {
        "colab": {
          "base_uri": "https://localhost:8080/"
        },
        "id": "p1iTZwA7LNjY",
        "outputId": "7b6885fe-4a5b-4055-ce41-9288ac5842a9"
      },
      "outputs": [
        {
          "name": "stderr",
          "output_type": "stream",
          "text": [
            "Epoch [1/1]: 100%|██████████| 3125/3125 [16:20<00:00,  3.19it/s, loss=3.36]\n",
            "Validating: 100%|██████████| 313/313 [00:44<00:00,  6.99it/s]"
          ]
        },
        {
          "name": "stdout",
          "output_type": "stream",
          "text": [
            "Accuracy of Inception Model on tinyImageNet: 32.11%\n",
            "Inception run time 1024.9125428199768\n"
          ]
        },
        {
          "name": "stderr",
          "output_type": "stream",
          "text": [
            "\n"
          ]
        }
      ],
      "source": [
        "#used adam optimizer (used for all)\n",
        "criterion = nn.CrossEntropyLoss()\n",
        "optimizer = optim.Adam(inceptionv3_model.parameters(), lr=0.001)\n",
        "inceptionv3_start = time.time()\n",
        "# train the model\n",
        "train_model(inceptionv3_model, train_loader, criterion, optimizer, epochs=1)\n",
        "\n",
        "# validate and report accuracy\n",
        "inceptionv3_model_accuracy = validate_model(inceptionv3_model, valid_loader)\n",
        "inceptionv3_end = time.time()\n",
        "inceptionv3_duration = inceptionv3_end-inceptionv3_start\n",
        "print(f\"Accuracy of Inception Model on tinyImageNet: {inceptionv3_model_accuracy}%\")\n",
        "print(f\"Inception run time {inceptionv3_duration}\")"
      ]
    },
    {
      "cell_type": "markdown",
      "metadata": {
        "id": "aDQeZmEnyQX5"
      },
      "source": [
        "Now create a dataframe to store the accuracies and execution time to compare models"
      ]
    },
    {
      "cell_type": "code",
      "execution_count": null,
      "metadata": {
        "id": "zMIMm5AgyV9v"
      },
      "outputs": [],
      "source": [
        "#large models\n",
        "cnn_model_dic_large = {\"Models\":[\"VGG-19\",\"Resnet50\",\"Inception V4\"],\"Duration\":[vgg19_duration,resnet50_duration,inception_duration],\"Accuracy\":[vgg19_accuracy,resnet50_model_accuracy,inception_model_accuracy]}"
      ]
    },
    {
      "cell_type": "code",
      "execution_count": null,
      "metadata": {
        "colab": {
          "base_uri": "https://localhost:8080/"
        },
        "id": "LHrVyRdHDNtv",
        "outputId": "dbd2e251-98d8-4c34-aa47-cdbbf1ccc19f"
      },
      "outputs": [
        {
          "name": "stdout",
          "output_type": "stream",
          "text": [
            "       Model     Duration  Accuracy\n",
            "0     VGG-19   895.960400     56.63\n",
            "1   Resnet50  1256.555663     20.59\n",
            "2  Inception  1823.192158      6.13\n"
          ]
        }
      ],
      "source": [
        "#create df from dic\n",
        "cnn_df = pd.DataFrame(cnn_model_dic_large)\n",
        "print(cnn_df)"
      ]
    },
    {
      "cell_type": "markdown",
      "metadata": {},
      "source": []
    },
    {
      "cell_type": "code",
      "execution_count": null,
      "metadata": {
        "id": "tFFsTjUvJi3H"
      },
      "outputs": [],
      "source": [
        "#small model dic\n",
        "cnn_model_dic_small = {\"Small Models\":[\"VGG-11\",\"Resnet18\",\"Inception V3\"],\"Duration\":[vgg11_duration,resnet18_duration,inceptionv3_duration],\"Accuracy\":[vgg11_accuracy,resnet18_model_accuracy,inceptionv3_model_accuracy]}"
      ]
    },
    {
      "cell_type": "code",
      "execution_count": null,
      "metadata": {
        "colab": {
          "base_uri": "https://localhost:8080/"
        },
        "id": "t6wdgTHSNzw8",
        "outputId": "58e3b337-a55f-4500-9bec-951b9d38f76f"
      },
      "outputs": [
        {
          "name": "stdout",
          "output_type": "stream",
          "text": [
            "   Small Models     Duration  Accuracy\n",
            "0        VGG-11   913.558704     57.33\n",
            "1      Resnet18   553.215027     61.84\n",
            "2  Inception V3  1024.912543     32.11\n"
          ]
        }
      ],
      "source": [
        "#create df from small model dic\n",
        "cnn_small_df = pd.DataFrame(cnn_model_dic_small)\n",
        "print(cnn_small_df)"
      ]
    }
  ],
  "metadata": {
    "accelerator": "GPU",
    "colab": {
      "gpuType": "T4",
      "provenance": []
    },
    "kernelspec": {
      "display_name": "Python 3",
      "name": "python3"
    },
    "language_info": {
      "codemirror_mode": {
        "name": "ipython",
        "version": 3
      },
      "file_extension": ".py",
      "mimetype": "text/x-python",
      "name": "python",
      "nbconvert_exporter": "python",
      "pygments_lexer": "ipython3",
      "version": "3.10.13"
    },
    "orig_nbformat": 4,
    "widgets": {
      "application/vnd.jupyter.widget-state+json": {
        "00bed07539c24027a103c2cc0d60f249": {
          "model_module": "@jupyter-widgets/controls",
          "model_module_version": "1.5.0",
          "model_name": "DescriptionStyleModel",
          "state": {
            "_model_module": "@jupyter-widgets/controls",
            "_model_module_version": "1.5.0",
            "_model_name": "DescriptionStyleModel",
            "_view_count": null,
            "_view_module": "@jupyter-widgets/base",
            "_view_module_version": "1.2.0",
            "_view_name": "StyleView",
            "description_width": ""
          }
        },
        "0e3761f956a84fcdaf6eb82e26933b01": {
          "model_module": "@jupyter-widgets/base",
          "model_module_version": "1.2.0",
          "model_name": "LayoutModel",
          "state": {
            "_model_module": "@jupyter-widgets/base",
            "_model_module_version": "1.2.0",
            "_model_name": "LayoutModel",
            "_view_count": null,
            "_view_module": "@jupyter-widgets/base",
            "_view_module_version": "1.2.0",
            "_view_name": "LayoutView",
            "align_content": null,
            "align_items": null,
            "align_self": null,
            "border": null,
            "bottom": null,
            "display": null,
            "flex": null,
            "flex_flow": null,
            "grid_area": null,
            "grid_auto_columns": null,
            "grid_auto_flow": null,
            "grid_auto_rows": null,
            "grid_column": null,
            "grid_gap": null,
            "grid_row": null,
            "grid_template_areas": null,
            "grid_template_columns": null,
            "grid_template_rows": null,
            "height": null,
            "justify_content": null,
            "justify_items": null,
            "left": null,
            "margin": null,
            "max_height": null,
            "max_width": null,
            "min_height": null,
            "min_width": null,
            "object_fit": null,
            "object_position": null,
            "order": null,
            "overflow": null,
            "overflow_x": null,
            "overflow_y": null,
            "padding": null,
            "right": null,
            "top": null,
            "visibility": null,
            "width": null
          }
        },
        "1e45628c96ce468ca1fdbd7ea7811574": {
          "model_module": "@jupyter-widgets/base",
          "model_module_version": "1.2.0",
          "model_name": "LayoutModel",
          "state": {
            "_model_module": "@jupyter-widgets/base",
            "_model_module_version": "1.2.0",
            "_model_name": "LayoutModel",
            "_view_count": null,
            "_view_module": "@jupyter-widgets/base",
            "_view_module_version": "1.2.0",
            "_view_name": "LayoutView",
            "align_content": null,
            "align_items": null,
            "align_self": null,
            "border": null,
            "bottom": null,
            "display": null,
            "flex": null,
            "flex_flow": null,
            "grid_area": null,
            "grid_auto_columns": null,
            "grid_auto_flow": null,
            "grid_auto_rows": null,
            "grid_column": null,
            "grid_gap": null,
            "grid_row": null,
            "grid_template_areas": null,
            "grid_template_columns": null,
            "grid_template_rows": null,
            "height": null,
            "justify_content": null,
            "justify_items": null,
            "left": null,
            "margin": null,
            "max_height": null,
            "max_width": null,
            "min_height": null,
            "min_width": null,
            "object_fit": null,
            "object_position": null,
            "order": null,
            "overflow": null,
            "overflow_x": null,
            "overflow_y": null,
            "padding": null,
            "right": null,
            "top": null,
            "visibility": null,
            "width": null
          }
        },
        "20203714111d4f0ea0dc8f553e6ace6b": {
          "model_module": "@jupyter-widgets/controls",
          "model_module_version": "1.5.0",
          "model_name": "DescriptionStyleModel",
          "state": {
            "_model_module": "@jupyter-widgets/controls",
            "_model_module_version": "1.5.0",
            "_model_name": "DescriptionStyleModel",
            "_view_count": null,
            "_view_module": "@jupyter-widgets/base",
            "_view_module_version": "1.2.0",
            "_view_name": "StyleView",
            "description_width": ""
          }
        },
        "2bfcceb4c336412a95233560203a6256": {
          "model_module": "@jupyter-widgets/controls",
          "model_module_version": "1.5.0",
          "model_name": "DescriptionStyleModel",
          "state": {
            "_model_module": "@jupyter-widgets/controls",
            "_model_module_version": "1.5.0",
            "_model_name": "DescriptionStyleModel",
            "_view_count": null,
            "_view_module": "@jupyter-widgets/base",
            "_view_module_version": "1.2.0",
            "_view_name": "StyleView",
            "description_width": ""
          }
        },
        "2d322df88cab45a2aa246eb028b182b6": {
          "model_module": "@jupyter-widgets/controls",
          "model_module_version": "1.5.0",
          "model_name": "HTMLModel",
          "state": {
            "_dom_classes": [],
            "_model_module": "@jupyter-widgets/controls",
            "_model_module_version": "1.5.0",
            "_model_name": "HTMLModel",
            "_view_count": null,
            "_view_module": "@jupyter-widgets/controls",
            "_view_module_version": "1.5.0",
            "_view_name": "HTMLView",
            "description": "",
            "description_tooltip": null,
            "layout": "IPY_MODEL_0e3761f956a84fcdaf6eb82e26933b01",
            "placeholder": "​",
            "style": "IPY_MODEL_9b460648f8b746839b8e24e6f364f1fd",
            "value": " 531M/531M [00:36&lt;00:00, 13.9MB/s]"
          }
        },
        "2e852355f1a546ffb75a434e0644163c": {
          "model_module": "@jupyter-widgets/base",
          "model_module_version": "1.2.0",
          "model_name": "LayoutModel",
          "state": {
            "_model_module": "@jupyter-widgets/base",
            "_model_module_version": "1.2.0",
            "_model_name": "LayoutModel",
            "_view_count": null,
            "_view_module": "@jupyter-widgets/base",
            "_view_module_version": "1.2.0",
            "_view_name": "LayoutView",
            "align_content": null,
            "align_items": null,
            "align_self": null,
            "border": null,
            "bottom": null,
            "display": null,
            "flex": null,
            "flex_flow": null,
            "grid_area": null,
            "grid_auto_columns": null,
            "grid_auto_flow": null,
            "grid_auto_rows": null,
            "grid_column": null,
            "grid_gap": null,
            "grid_row": null,
            "grid_template_areas": null,
            "grid_template_columns": null,
            "grid_template_rows": null,
            "height": null,
            "justify_content": null,
            "justify_items": null,
            "left": null,
            "margin": null,
            "max_height": null,
            "max_width": null,
            "min_height": null,
            "min_width": null,
            "object_fit": null,
            "object_position": null,
            "order": null,
            "overflow": null,
            "overflow_x": null,
            "overflow_y": null,
            "padding": null,
            "right": null,
            "top": null,
            "visibility": null,
            "width": null
          }
        },
        "38f8dbae751e4e229537ab5556521029": {
          "model_module": "@jupyter-widgets/controls",
          "model_module_version": "1.5.0",
          "model_name": "HBoxModel",
          "state": {
            "_dom_classes": [],
            "_model_module": "@jupyter-widgets/controls",
            "_model_module_version": "1.5.0",
            "_model_name": "HBoxModel",
            "_view_count": null,
            "_view_module": "@jupyter-widgets/controls",
            "_view_module_version": "1.5.0",
            "_view_name": "HBoxView",
            "box_style": "",
            "children": [
              "IPY_MODEL_a846f230e8db4eb68c9f7ea0ff2f1e0b",
              "IPY_MODEL_3e47944a5cd84ee69c4f881c45dbb8fa",
              "IPY_MODEL_663a8454739e43298aa79c61cb2d8eff"
            ],
            "layout": "IPY_MODEL_c91cad1dff6044ca88fe538c2e2eab55"
          }
        },
        "3aa593929bd541c88117971c94ddc751": {
          "model_module": "@jupyter-widgets/controls",
          "model_module_version": "1.5.0",
          "model_name": "HTMLModel",
          "state": {
            "_dom_classes": [],
            "_model_module": "@jupyter-widgets/controls",
            "_model_module_version": "1.5.0",
            "_model_name": "HTMLModel",
            "_view_count": null,
            "_view_module": "@jupyter-widgets/controls",
            "_view_module_version": "1.5.0",
            "_view_name": "HTMLView",
            "description": "",
            "description_tooltip": null,
            "layout": "IPY_MODEL_67936a8d10bf48b3b250d1685d5b5a46",
            "placeholder": "​",
            "style": "IPY_MODEL_448b87301a7f48b6900ceb68688fd8b5",
            "value": " 46.8M/46.8M [00:00&lt;00:00, 157MB/s]"
          }
        },
        "3df453c3d363402abe741d4a67a27102": {
          "model_module": "@jupyter-widgets/controls",
          "model_module_version": "1.5.0",
          "model_name": "ProgressStyleModel",
          "state": {
            "_model_module": "@jupyter-widgets/controls",
            "_model_module_version": "1.5.0",
            "_model_name": "ProgressStyleModel",
            "_view_count": null,
            "_view_module": "@jupyter-widgets/base",
            "_view_module_version": "1.2.0",
            "_view_name": "StyleView",
            "bar_color": null,
            "description_width": ""
          }
        },
        "3e47944a5cd84ee69c4f881c45dbb8fa": {
          "model_module": "@jupyter-widgets/controls",
          "model_module_version": "1.5.0",
          "model_name": "FloatProgressModel",
          "state": {
            "_dom_classes": [],
            "_model_module": "@jupyter-widgets/controls",
            "_model_module_version": "1.5.0",
            "_model_name": "FloatProgressModel",
            "_view_count": null,
            "_view_module": "@jupyter-widgets/controls",
            "_view_module_version": "1.5.0",
            "_view_name": "ProgressView",
            "bar_style": "success",
            "description": "",
            "description_tooltip": null,
            "layout": "IPY_MODEL_beb0a6a61f7442058125ce4929ae7b80",
            "max": 171064452,
            "min": 0,
            "orientation": "horizontal",
            "style": "IPY_MODEL_cbb291fbd2634985b1259504b1e1537c",
            "value": 171064452
          }
        },
        "3eb743ee94dd484c936c4367157755dd": {
          "model_module": "@jupyter-widgets/base",
          "model_module_version": "1.2.0",
          "model_name": "LayoutModel",
          "state": {
            "_model_module": "@jupyter-widgets/base",
            "_model_module_version": "1.2.0",
            "_model_name": "LayoutModel",
            "_view_count": null,
            "_view_module": "@jupyter-widgets/base",
            "_view_module_version": "1.2.0",
            "_view_name": "LayoutView",
            "align_content": null,
            "align_items": null,
            "align_self": null,
            "border": null,
            "bottom": null,
            "display": null,
            "flex": null,
            "flex_flow": null,
            "grid_area": null,
            "grid_auto_columns": null,
            "grid_auto_flow": null,
            "grid_auto_rows": null,
            "grid_column": null,
            "grid_gap": null,
            "grid_row": null,
            "grid_template_areas": null,
            "grid_template_columns": null,
            "grid_template_rows": null,
            "height": null,
            "justify_content": null,
            "justify_items": null,
            "left": null,
            "margin": null,
            "max_height": null,
            "max_width": null,
            "min_height": null,
            "min_width": null,
            "object_fit": null,
            "object_position": null,
            "order": null,
            "overflow": null,
            "overflow_x": null,
            "overflow_y": null,
            "padding": null,
            "right": null,
            "top": null,
            "visibility": null,
            "width": null
          }
        },
        "42f00a472c0d48929baab7c57f5f228c": {
          "model_module": "@jupyter-widgets/base",
          "model_module_version": "1.2.0",
          "model_name": "LayoutModel",
          "state": {
            "_model_module": "@jupyter-widgets/base",
            "_model_module_version": "1.2.0",
            "_model_name": "LayoutModel",
            "_view_count": null,
            "_view_module": "@jupyter-widgets/base",
            "_view_module_version": "1.2.0",
            "_view_name": "LayoutView",
            "align_content": null,
            "align_items": null,
            "align_self": null,
            "border": null,
            "bottom": null,
            "display": null,
            "flex": null,
            "flex_flow": null,
            "grid_area": null,
            "grid_auto_columns": null,
            "grid_auto_flow": null,
            "grid_auto_rows": null,
            "grid_column": null,
            "grid_gap": null,
            "grid_row": null,
            "grid_template_areas": null,
            "grid_template_columns": null,
            "grid_template_rows": null,
            "height": null,
            "justify_content": null,
            "justify_items": null,
            "left": null,
            "margin": null,
            "max_height": null,
            "max_width": null,
            "min_height": null,
            "min_width": null,
            "object_fit": null,
            "object_position": null,
            "order": null,
            "overflow": null,
            "overflow_x": null,
            "overflow_y": null,
            "padding": null,
            "right": null,
            "top": null,
            "visibility": null,
            "width": null
          }
        },
        "448b87301a7f48b6900ceb68688fd8b5": {
          "model_module": "@jupyter-widgets/controls",
          "model_module_version": "1.5.0",
          "model_name": "DescriptionStyleModel",
          "state": {
            "_model_module": "@jupyter-widgets/controls",
            "_model_module_version": "1.5.0",
            "_model_name": "DescriptionStyleModel",
            "_view_count": null,
            "_view_module": "@jupyter-widgets/base",
            "_view_module_version": "1.2.0",
            "_view_name": "StyleView",
            "description_width": ""
          }
        },
        "4a4020fc0eb04d29b24a739c6222dca6": {
          "model_module": "@jupyter-widgets/controls",
          "model_module_version": "1.5.0",
          "model_name": "FloatProgressModel",
          "state": {
            "_dom_classes": [],
            "_model_module": "@jupyter-widgets/controls",
            "_model_module_version": "1.5.0",
            "_model_name": "FloatProgressModel",
            "_view_count": null,
            "_view_module": "@jupyter-widgets/controls",
            "_view_module_version": "1.5.0",
            "_view_name": "ProgressView",
            "bar_style": "success",
            "description": "",
            "description_tooltip": null,
            "layout": "IPY_MODEL_55d1b73a92f14c8c8432ed78bb9aeec7",
            "max": 46807446,
            "min": 0,
            "orientation": "horizontal",
            "style": "IPY_MODEL_9463557d9d5a461dbb7d4a88af6d421d",
            "value": 46807446
          }
        },
        "4d7be3a95b2a409e95f6b78fdf976ff8": {
          "model_module": "@jupyter-widgets/controls",
          "model_module_version": "1.5.0",
          "model_name": "FloatProgressModel",
          "state": {
            "_dom_classes": [],
            "_model_module": "@jupyter-widgets/controls",
            "_model_module_version": "1.5.0",
            "_model_name": "FloatProgressModel",
            "_view_count": null,
            "_view_module": "@jupyter-widgets/controls",
            "_view_module_version": "1.5.0",
            "_view_name": "ProgressView",
            "bar_style": "success",
            "description": "",
            "description_tooltip": null,
            "layout": "IPY_MODEL_2e852355f1a546ffb75a434e0644163c",
            "max": 95533832,
            "min": 0,
            "orientation": "horizontal",
            "style": "IPY_MODEL_3df453c3d363402abe741d4a67a27102",
            "value": 95533832
          }
        },
        "4fb066c5dc6841e1a73668f03182c785": {
          "model_module": "@jupyter-widgets/base",
          "model_module_version": "1.2.0",
          "model_name": "LayoutModel",
          "state": {
            "_model_module": "@jupyter-widgets/base",
            "_model_module_version": "1.2.0",
            "_model_name": "LayoutModel",
            "_view_count": null,
            "_view_module": "@jupyter-widgets/base",
            "_view_module_version": "1.2.0",
            "_view_name": "LayoutView",
            "align_content": null,
            "align_items": null,
            "align_self": null,
            "border": null,
            "bottom": null,
            "display": null,
            "flex": null,
            "flex_flow": null,
            "grid_area": null,
            "grid_auto_columns": null,
            "grid_auto_flow": null,
            "grid_auto_rows": null,
            "grid_column": null,
            "grid_gap": null,
            "grid_row": null,
            "grid_template_areas": null,
            "grid_template_columns": null,
            "grid_template_rows": null,
            "height": null,
            "justify_content": null,
            "justify_items": null,
            "left": null,
            "margin": null,
            "max_height": null,
            "max_width": null,
            "min_height": null,
            "min_width": null,
            "object_fit": null,
            "object_position": null,
            "order": null,
            "overflow": null,
            "overflow_x": null,
            "overflow_y": null,
            "padding": null,
            "right": null,
            "top": null,
            "visibility": null,
            "width": null
          }
        },
        "514c68e53c434301baf40ecc0def8e18": {
          "model_module": "@jupyter-widgets/base",
          "model_module_version": "1.2.0",
          "model_name": "LayoutModel",
          "state": {
            "_model_module": "@jupyter-widgets/base",
            "_model_module_version": "1.2.0",
            "_model_name": "LayoutModel",
            "_view_count": null,
            "_view_module": "@jupyter-widgets/base",
            "_view_module_version": "1.2.0",
            "_view_name": "LayoutView",
            "align_content": null,
            "align_items": null,
            "align_self": null,
            "border": null,
            "bottom": null,
            "display": null,
            "flex": null,
            "flex_flow": null,
            "grid_area": null,
            "grid_auto_columns": null,
            "grid_auto_flow": null,
            "grid_auto_rows": null,
            "grid_column": null,
            "grid_gap": null,
            "grid_row": null,
            "grid_template_areas": null,
            "grid_template_columns": null,
            "grid_template_rows": null,
            "height": null,
            "justify_content": null,
            "justify_items": null,
            "left": null,
            "margin": null,
            "max_height": null,
            "max_width": null,
            "min_height": null,
            "min_width": null,
            "object_fit": null,
            "object_position": null,
            "order": null,
            "overflow": null,
            "overflow_x": null,
            "overflow_y": null,
            "padding": null,
            "right": null,
            "top": null,
            "visibility": null,
            "width": null
          }
        },
        "518b5bc6d753481ba24cd18f3ec4130f": {
          "model_module": "@jupyter-widgets/controls",
          "model_module_version": "1.5.0",
          "model_name": "ProgressStyleModel",
          "state": {
            "_model_module": "@jupyter-widgets/controls",
            "_model_module_version": "1.5.0",
            "_model_name": "ProgressStyleModel",
            "_view_count": null,
            "_view_module": "@jupyter-widgets/base",
            "_view_module_version": "1.2.0",
            "_view_name": "StyleView",
            "bar_color": null,
            "description_width": ""
          }
        },
        "55d1b73a92f14c8c8432ed78bb9aeec7": {
          "model_module": "@jupyter-widgets/base",
          "model_module_version": "1.2.0",
          "model_name": "LayoutModel",
          "state": {
            "_model_module": "@jupyter-widgets/base",
            "_model_module_version": "1.2.0",
            "_model_name": "LayoutModel",
            "_view_count": null,
            "_view_module": "@jupyter-widgets/base",
            "_view_module_version": "1.2.0",
            "_view_name": "LayoutView",
            "align_content": null,
            "align_items": null,
            "align_self": null,
            "border": null,
            "bottom": null,
            "display": null,
            "flex": null,
            "flex_flow": null,
            "grid_area": null,
            "grid_auto_columns": null,
            "grid_auto_flow": null,
            "grid_auto_rows": null,
            "grid_column": null,
            "grid_gap": null,
            "grid_row": null,
            "grid_template_areas": null,
            "grid_template_columns": null,
            "grid_template_rows": null,
            "height": null,
            "justify_content": null,
            "justify_items": null,
            "left": null,
            "margin": null,
            "max_height": null,
            "max_width": null,
            "min_height": null,
            "min_width": null,
            "object_fit": null,
            "object_position": null,
            "order": null,
            "overflow": null,
            "overflow_x": null,
            "overflow_y": null,
            "padding": null,
            "right": null,
            "top": null,
            "visibility": null,
            "width": null
          }
        },
        "5a8d1ce5e61a45fa95c94bc1a62681ae": {
          "model_module": "@jupyter-widgets/base",
          "model_module_version": "1.2.0",
          "model_name": "LayoutModel",
          "state": {
            "_model_module": "@jupyter-widgets/base",
            "_model_module_version": "1.2.0",
            "_model_name": "LayoutModel",
            "_view_count": null,
            "_view_module": "@jupyter-widgets/base",
            "_view_module_version": "1.2.0",
            "_view_name": "LayoutView",
            "align_content": null,
            "align_items": null,
            "align_self": null,
            "border": null,
            "bottom": null,
            "display": null,
            "flex": null,
            "flex_flow": null,
            "grid_area": null,
            "grid_auto_columns": null,
            "grid_auto_flow": null,
            "grid_auto_rows": null,
            "grid_column": null,
            "grid_gap": null,
            "grid_row": null,
            "grid_template_areas": null,
            "grid_template_columns": null,
            "grid_template_rows": null,
            "height": null,
            "justify_content": null,
            "justify_items": null,
            "left": null,
            "margin": null,
            "max_height": null,
            "max_width": null,
            "min_height": null,
            "min_width": null,
            "object_fit": null,
            "object_position": null,
            "order": null,
            "overflow": null,
            "overflow_x": null,
            "overflow_y": null,
            "padding": null,
            "right": null,
            "top": null,
            "visibility": null,
            "width": null
          }
        },
        "663a8454739e43298aa79c61cb2d8eff": {
          "model_module": "@jupyter-widgets/controls",
          "model_module_version": "1.5.0",
          "model_name": "HTMLModel",
          "state": {
            "_dom_classes": [],
            "_model_module": "@jupyter-widgets/controls",
            "_model_module_version": "1.5.0",
            "_model_name": "HTMLModel",
            "_view_count": null,
            "_view_module": "@jupyter-widgets/controls",
            "_view_module_version": "1.5.0",
            "_view_name": "HTMLView",
            "description": "",
            "description_tooltip": null,
            "layout": "IPY_MODEL_93e64754434a47c496583308b20bddf6",
            "placeholder": "​",
            "style": "IPY_MODEL_20203714111d4f0ea0dc8f553e6ace6b",
            "value": " 171M/171M [00:11&lt;00:00, 16.3MB/s]"
          }
        },
        "67936a8d10bf48b3b250d1685d5b5a46": {
          "model_module": "@jupyter-widgets/base",
          "model_module_version": "1.2.0",
          "model_name": "LayoutModel",
          "state": {
            "_model_module": "@jupyter-widgets/base",
            "_model_module_version": "1.2.0",
            "_model_name": "LayoutModel",
            "_view_count": null,
            "_view_module": "@jupyter-widgets/base",
            "_view_module_version": "1.2.0",
            "_view_name": "LayoutView",
            "align_content": null,
            "align_items": null,
            "align_self": null,
            "border": null,
            "bottom": null,
            "display": null,
            "flex": null,
            "flex_flow": null,
            "grid_area": null,
            "grid_auto_columns": null,
            "grid_auto_flow": null,
            "grid_auto_rows": null,
            "grid_column": null,
            "grid_gap": null,
            "grid_row": null,
            "grid_template_areas": null,
            "grid_template_columns": null,
            "grid_template_rows": null,
            "height": null,
            "justify_content": null,
            "justify_items": null,
            "left": null,
            "margin": null,
            "max_height": null,
            "max_width": null,
            "min_height": null,
            "min_width": null,
            "object_fit": null,
            "object_position": null,
            "order": null,
            "overflow": null,
            "overflow_x": null,
            "overflow_y": null,
            "padding": null,
            "right": null,
            "top": null,
            "visibility": null,
            "width": null
          }
        },
        "6fd689f26f3f4f7da50648c67666e134": {
          "model_module": "@jupyter-widgets/base",
          "model_module_version": "1.2.0",
          "model_name": "LayoutModel",
          "state": {
            "_model_module": "@jupyter-widgets/base",
            "_model_module_version": "1.2.0",
            "_model_name": "LayoutModel",
            "_view_count": null,
            "_view_module": "@jupyter-widgets/base",
            "_view_module_version": "1.2.0",
            "_view_name": "LayoutView",
            "align_content": null,
            "align_items": null,
            "align_self": null,
            "border": null,
            "bottom": null,
            "display": null,
            "flex": null,
            "flex_flow": null,
            "grid_area": null,
            "grid_auto_columns": null,
            "grid_auto_flow": null,
            "grid_auto_rows": null,
            "grid_column": null,
            "grid_gap": null,
            "grid_row": null,
            "grid_template_areas": null,
            "grid_template_columns": null,
            "grid_template_rows": null,
            "height": null,
            "justify_content": null,
            "justify_items": null,
            "left": null,
            "margin": null,
            "max_height": null,
            "max_width": null,
            "min_height": null,
            "min_width": null,
            "object_fit": null,
            "object_position": null,
            "order": null,
            "overflow": null,
            "overflow_x": null,
            "overflow_y": null,
            "padding": null,
            "right": null,
            "top": null,
            "visibility": null,
            "width": null
          }
        },
        "705e4c65652e446ea08f3a09a483ec49": {
          "model_module": "@jupyter-widgets/controls",
          "model_module_version": "1.5.0",
          "model_name": "HBoxModel",
          "state": {
            "_dom_classes": [],
            "_model_module": "@jupyter-widgets/controls",
            "_model_module_version": "1.5.0",
            "_model_name": "HBoxModel",
            "_view_count": null,
            "_view_module": "@jupyter-widgets/controls",
            "_view_module_version": "1.5.0",
            "_view_name": "HBoxView",
            "box_style": "",
            "children": [
              "IPY_MODEL_bffe211fcc664b5198c945986781777b",
              "IPY_MODEL_d370efcb1abc4110b8ae9ce0144bf935",
              "IPY_MODEL_2d322df88cab45a2aa246eb028b182b6"
            ],
            "layout": "IPY_MODEL_9551a551666d40a384c8c1720fc334da"
          }
        },
        "7eb3bc1fda8c4d6da4e29020f2b62712": {
          "model_module": "@jupyter-widgets/controls",
          "model_module_version": "1.5.0",
          "model_name": "DescriptionStyleModel",
          "state": {
            "_model_module": "@jupyter-widgets/controls",
            "_model_module_version": "1.5.0",
            "_model_name": "DescriptionStyleModel",
            "_view_count": null,
            "_view_module": "@jupyter-widgets/base",
            "_view_module_version": "1.2.0",
            "_view_name": "StyleView",
            "description_width": ""
          }
        },
        "82d83f6a1e234c988235830eefca8fd9": {
          "model_module": "@jupyter-widgets/base",
          "model_module_version": "1.2.0",
          "model_name": "LayoutModel",
          "state": {
            "_model_module": "@jupyter-widgets/base",
            "_model_module_version": "1.2.0",
            "_model_name": "LayoutModel",
            "_view_count": null,
            "_view_module": "@jupyter-widgets/base",
            "_view_module_version": "1.2.0",
            "_view_name": "LayoutView",
            "align_content": null,
            "align_items": null,
            "align_self": null,
            "border": null,
            "bottom": null,
            "display": null,
            "flex": null,
            "flex_flow": null,
            "grid_area": null,
            "grid_auto_columns": null,
            "grid_auto_flow": null,
            "grid_auto_rows": null,
            "grid_column": null,
            "grid_gap": null,
            "grid_row": null,
            "grid_template_areas": null,
            "grid_template_columns": null,
            "grid_template_rows": null,
            "height": null,
            "justify_content": null,
            "justify_items": null,
            "left": null,
            "margin": null,
            "max_height": null,
            "max_width": null,
            "min_height": null,
            "min_width": null,
            "object_fit": null,
            "object_position": null,
            "order": null,
            "overflow": null,
            "overflow_x": null,
            "overflow_y": null,
            "padding": null,
            "right": null,
            "top": null,
            "visibility": null,
            "width": null
          }
        },
        "8e3fb3717bd7490291a250d099b7265d": {
          "model_module": "@jupyter-widgets/controls",
          "model_module_version": "1.5.0",
          "model_name": "HTMLModel",
          "state": {
            "_dom_classes": [],
            "_model_module": "@jupyter-widgets/controls",
            "_model_module_version": "1.5.0",
            "_model_name": "HTMLModel",
            "_view_count": null,
            "_view_module": "@jupyter-widgets/controls",
            "_view_module_version": "1.5.0",
            "_view_name": "HTMLView",
            "description": "",
            "description_tooltip": null,
            "layout": "IPY_MODEL_1e45628c96ce468ca1fdbd7ea7811574",
            "placeholder": "​",
            "style": "IPY_MODEL_a5b6af4750f14230b050f22c93d2dbbd",
            "value": " 95.5M/95.5M [00:00&lt;00:00, 358MB/s]"
          }
        },
        "90d3be08d056418ea080bd9ca524bdbf": {
          "model_module": "@jupyter-widgets/controls",
          "model_module_version": "1.5.0",
          "model_name": "HBoxModel",
          "state": {
            "_dom_classes": [],
            "_model_module": "@jupyter-widgets/controls",
            "_model_module_version": "1.5.0",
            "_model_name": "HBoxModel",
            "_view_count": null,
            "_view_module": "@jupyter-widgets/controls",
            "_view_module_version": "1.5.0",
            "_view_name": "HBoxView",
            "box_style": "",
            "children": [
              "IPY_MODEL_aec93dbcfd854106a1d0e87b05db183b",
              "IPY_MODEL_4d7be3a95b2a409e95f6b78fdf976ff8",
              "IPY_MODEL_8e3fb3717bd7490291a250d099b7265d"
            ],
            "layout": "IPY_MODEL_514c68e53c434301baf40ecc0def8e18"
          }
        },
        "93e64754434a47c496583308b20bddf6": {
          "model_module": "@jupyter-widgets/base",
          "model_module_version": "1.2.0",
          "model_name": "LayoutModel",
          "state": {
            "_model_module": "@jupyter-widgets/base",
            "_model_module_version": "1.2.0",
            "_model_name": "LayoutModel",
            "_view_count": null,
            "_view_module": "@jupyter-widgets/base",
            "_view_module_version": "1.2.0",
            "_view_name": "LayoutView",
            "align_content": null,
            "align_items": null,
            "align_self": null,
            "border": null,
            "bottom": null,
            "display": null,
            "flex": null,
            "flex_flow": null,
            "grid_area": null,
            "grid_auto_columns": null,
            "grid_auto_flow": null,
            "grid_auto_rows": null,
            "grid_column": null,
            "grid_gap": null,
            "grid_row": null,
            "grid_template_areas": null,
            "grid_template_columns": null,
            "grid_template_rows": null,
            "height": null,
            "justify_content": null,
            "justify_items": null,
            "left": null,
            "margin": null,
            "max_height": null,
            "max_width": null,
            "min_height": null,
            "min_width": null,
            "object_fit": null,
            "object_position": null,
            "order": null,
            "overflow": null,
            "overflow_x": null,
            "overflow_y": null,
            "padding": null,
            "right": null,
            "top": null,
            "visibility": null,
            "width": null
          }
        },
        "9463557d9d5a461dbb7d4a88af6d421d": {
          "model_module": "@jupyter-widgets/controls",
          "model_module_version": "1.5.0",
          "model_name": "ProgressStyleModel",
          "state": {
            "_model_module": "@jupyter-widgets/controls",
            "_model_module_version": "1.5.0",
            "_model_name": "ProgressStyleModel",
            "_view_count": null,
            "_view_module": "@jupyter-widgets/base",
            "_view_module_version": "1.2.0",
            "_view_name": "StyleView",
            "bar_color": null,
            "description_width": ""
          }
        },
        "9551a551666d40a384c8c1720fc334da": {
          "model_module": "@jupyter-widgets/base",
          "model_module_version": "1.2.0",
          "model_name": "LayoutModel",
          "state": {
            "_model_module": "@jupyter-widgets/base",
            "_model_module_version": "1.2.0",
            "_model_name": "LayoutModel",
            "_view_count": null,
            "_view_module": "@jupyter-widgets/base",
            "_view_module_version": "1.2.0",
            "_view_name": "LayoutView",
            "align_content": null,
            "align_items": null,
            "align_self": null,
            "border": null,
            "bottom": null,
            "display": null,
            "flex": null,
            "flex_flow": null,
            "grid_area": null,
            "grid_auto_columns": null,
            "grid_auto_flow": null,
            "grid_auto_rows": null,
            "grid_column": null,
            "grid_gap": null,
            "grid_row": null,
            "grid_template_areas": null,
            "grid_template_columns": null,
            "grid_template_rows": null,
            "height": null,
            "justify_content": null,
            "justify_items": null,
            "left": null,
            "margin": null,
            "max_height": null,
            "max_width": null,
            "min_height": null,
            "min_width": null,
            "object_fit": null,
            "object_position": null,
            "order": null,
            "overflow": null,
            "overflow_x": null,
            "overflow_y": null,
            "padding": null,
            "right": null,
            "top": null,
            "visibility": null,
            "width": null
          }
        },
        "963a4fd3eb324388a67461d48072da67": {
          "model_module": "@jupyter-widgets/controls",
          "model_module_version": "1.5.0",
          "model_name": "HTMLModel",
          "state": {
            "_dom_classes": [],
            "_model_module": "@jupyter-widgets/controls",
            "_model_module_version": "1.5.0",
            "_model_name": "HTMLModel",
            "_view_count": null,
            "_view_module": "@jupyter-widgets/controls",
            "_view_module_version": "1.5.0",
            "_view_name": "HTMLView",
            "description": "",
            "description_tooltip": null,
            "layout": "IPY_MODEL_6fd689f26f3f4f7da50648c67666e134",
            "placeholder": "​",
            "style": "IPY_MODEL_00bed07539c24027a103c2cc0d60f249",
            "value": "model.safetensors: 100%"
          }
        },
        "9b460648f8b746839b8e24e6f364f1fd": {
          "model_module": "@jupyter-widgets/controls",
          "model_module_version": "1.5.0",
          "model_name": "DescriptionStyleModel",
          "state": {
            "_model_module": "@jupyter-widgets/controls",
            "_model_module_version": "1.5.0",
            "_model_name": "DescriptionStyleModel",
            "_view_count": null,
            "_view_module": "@jupyter-widgets/base",
            "_view_module_version": "1.2.0",
            "_view_name": "StyleView",
            "description_width": ""
          }
        },
        "a5b6af4750f14230b050f22c93d2dbbd": {
          "model_module": "@jupyter-widgets/controls",
          "model_module_version": "1.5.0",
          "model_name": "DescriptionStyleModel",
          "state": {
            "_model_module": "@jupyter-widgets/controls",
            "_model_module_version": "1.5.0",
            "_model_name": "DescriptionStyleModel",
            "_view_count": null,
            "_view_module": "@jupyter-widgets/base",
            "_view_module_version": "1.2.0",
            "_view_name": "StyleView",
            "description_width": ""
          }
        },
        "a6ac0f86be4f41ec8808ed3b4f385c24": {
          "model_module": "@jupyter-widgets/controls",
          "model_module_version": "1.5.0",
          "model_name": "HBoxModel",
          "state": {
            "_dom_classes": [],
            "_model_module": "@jupyter-widgets/controls",
            "_model_module_version": "1.5.0",
            "_model_name": "HBoxModel",
            "_view_count": null,
            "_view_module": "@jupyter-widgets/controls",
            "_view_module_version": "1.5.0",
            "_view_name": "HBoxView",
            "box_style": "",
            "children": [
              "IPY_MODEL_963a4fd3eb324388a67461d48072da67",
              "IPY_MODEL_4a4020fc0eb04d29b24a739c6222dca6",
              "IPY_MODEL_3aa593929bd541c88117971c94ddc751"
            ],
            "layout": "IPY_MODEL_5a8d1ce5e61a45fa95c94bc1a62681ae"
          }
        },
        "a846f230e8db4eb68c9f7ea0ff2f1e0b": {
          "model_module": "@jupyter-widgets/controls",
          "model_module_version": "1.5.0",
          "model_name": "HTMLModel",
          "state": {
            "_dom_classes": [],
            "_model_module": "@jupyter-widgets/controls",
            "_model_module_version": "1.5.0",
            "_model_name": "HTMLModel",
            "_view_count": null,
            "_view_module": "@jupyter-widgets/controls",
            "_view_module_version": "1.5.0",
            "_view_name": "HTMLView",
            "description": "",
            "description_tooltip": null,
            "layout": "IPY_MODEL_3eb743ee94dd484c936c4367157755dd",
            "placeholder": "​",
            "style": "IPY_MODEL_2bfcceb4c336412a95233560203a6256",
            "value": "model.safetensors: 100%"
          }
        },
        "aec93dbcfd854106a1d0e87b05db183b": {
          "model_module": "@jupyter-widgets/controls",
          "model_module_version": "1.5.0",
          "model_name": "HTMLModel",
          "state": {
            "_dom_classes": [],
            "_model_module": "@jupyter-widgets/controls",
            "_model_module_version": "1.5.0",
            "_model_name": "HTMLModel",
            "_view_count": null,
            "_view_module": "@jupyter-widgets/controls",
            "_view_module_version": "1.5.0",
            "_view_name": "HTMLView",
            "description": "",
            "description_tooltip": null,
            "layout": "IPY_MODEL_82d83f6a1e234c988235830eefca8fd9",
            "placeholder": "​",
            "style": "IPY_MODEL_e81bc8760d034c21a55def0c3be2867a",
            "value": "model.safetensors: 100%"
          }
        },
        "beb0a6a61f7442058125ce4929ae7b80": {
          "model_module": "@jupyter-widgets/base",
          "model_module_version": "1.2.0",
          "model_name": "LayoutModel",
          "state": {
            "_model_module": "@jupyter-widgets/base",
            "_model_module_version": "1.2.0",
            "_model_name": "LayoutModel",
            "_view_count": null,
            "_view_module": "@jupyter-widgets/base",
            "_view_module_version": "1.2.0",
            "_view_name": "LayoutView",
            "align_content": null,
            "align_items": null,
            "align_self": null,
            "border": null,
            "bottom": null,
            "display": null,
            "flex": null,
            "flex_flow": null,
            "grid_area": null,
            "grid_auto_columns": null,
            "grid_auto_flow": null,
            "grid_auto_rows": null,
            "grid_column": null,
            "grid_gap": null,
            "grid_row": null,
            "grid_template_areas": null,
            "grid_template_columns": null,
            "grid_template_rows": null,
            "height": null,
            "justify_content": null,
            "justify_items": null,
            "left": null,
            "margin": null,
            "max_height": null,
            "max_width": null,
            "min_height": null,
            "min_width": null,
            "object_fit": null,
            "object_position": null,
            "order": null,
            "overflow": null,
            "overflow_x": null,
            "overflow_y": null,
            "padding": null,
            "right": null,
            "top": null,
            "visibility": null,
            "width": null
          }
        },
        "bffe211fcc664b5198c945986781777b": {
          "model_module": "@jupyter-widgets/controls",
          "model_module_version": "1.5.0",
          "model_name": "HTMLModel",
          "state": {
            "_dom_classes": [],
            "_model_module": "@jupyter-widgets/controls",
            "_model_module_version": "1.5.0",
            "_model_name": "HTMLModel",
            "_view_count": null,
            "_view_module": "@jupyter-widgets/controls",
            "_view_module_version": "1.5.0",
            "_view_name": "HTMLView",
            "description": "",
            "description_tooltip": null,
            "layout": "IPY_MODEL_42f00a472c0d48929baab7c57f5f228c",
            "placeholder": "​",
            "style": "IPY_MODEL_7eb3bc1fda8c4d6da4e29020f2b62712",
            "value": "model.safetensors: 100%"
          }
        },
        "c91cad1dff6044ca88fe538c2e2eab55": {
          "model_module": "@jupyter-widgets/base",
          "model_module_version": "1.2.0",
          "model_name": "LayoutModel",
          "state": {
            "_model_module": "@jupyter-widgets/base",
            "_model_module_version": "1.2.0",
            "_model_name": "LayoutModel",
            "_view_count": null,
            "_view_module": "@jupyter-widgets/base",
            "_view_module_version": "1.2.0",
            "_view_name": "LayoutView",
            "align_content": null,
            "align_items": null,
            "align_self": null,
            "border": null,
            "bottom": null,
            "display": null,
            "flex": null,
            "flex_flow": null,
            "grid_area": null,
            "grid_auto_columns": null,
            "grid_auto_flow": null,
            "grid_auto_rows": null,
            "grid_column": null,
            "grid_gap": null,
            "grid_row": null,
            "grid_template_areas": null,
            "grid_template_columns": null,
            "grid_template_rows": null,
            "height": null,
            "justify_content": null,
            "justify_items": null,
            "left": null,
            "margin": null,
            "max_height": null,
            "max_width": null,
            "min_height": null,
            "min_width": null,
            "object_fit": null,
            "object_position": null,
            "order": null,
            "overflow": null,
            "overflow_x": null,
            "overflow_y": null,
            "padding": null,
            "right": null,
            "top": null,
            "visibility": null,
            "width": null
          }
        },
        "cbb291fbd2634985b1259504b1e1537c": {
          "model_module": "@jupyter-widgets/controls",
          "model_module_version": "1.5.0",
          "model_name": "ProgressStyleModel",
          "state": {
            "_model_module": "@jupyter-widgets/controls",
            "_model_module_version": "1.5.0",
            "_model_name": "ProgressStyleModel",
            "_view_count": null,
            "_view_module": "@jupyter-widgets/base",
            "_view_module_version": "1.2.0",
            "_view_name": "StyleView",
            "bar_color": null,
            "description_width": ""
          }
        },
        "d370efcb1abc4110b8ae9ce0144bf935": {
          "model_module": "@jupyter-widgets/controls",
          "model_module_version": "1.5.0",
          "model_name": "FloatProgressModel",
          "state": {
            "_dom_classes": [],
            "_model_module": "@jupyter-widgets/controls",
            "_model_module_version": "1.5.0",
            "_model_name": "FloatProgressModel",
            "_view_count": null,
            "_view_module": "@jupyter-widgets/controls",
            "_view_module_version": "1.5.0",
            "_view_name": "ProgressView",
            "bar_style": "success",
            "description": "",
            "description_tooltip": null,
            "layout": "IPY_MODEL_4fb066c5dc6841e1a73668f03182c785",
            "max": 531455276,
            "min": 0,
            "orientation": "horizontal",
            "style": "IPY_MODEL_518b5bc6d753481ba24cd18f3ec4130f",
            "value": 531455276
          }
        },
        "e81bc8760d034c21a55def0c3be2867a": {
          "model_module": "@jupyter-widgets/controls",
          "model_module_version": "1.5.0",
          "model_name": "DescriptionStyleModel",
          "state": {
            "_model_module": "@jupyter-widgets/controls",
            "_model_module_version": "1.5.0",
            "_model_name": "DescriptionStyleModel",
            "_view_count": null,
            "_view_module": "@jupyter-widgets/base",
            "_view_module_version": "1.2.0",
            "_view_name": "StyleView",
            "description_width": ""
          }
        }
      }
    }
  },
  "nbformat": 4,
  "nbformat_minor": 0
}
